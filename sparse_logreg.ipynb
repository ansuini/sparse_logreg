{
 "cells": [
  {
   "cell_type": "code",
   "execution_count": null,
   "metadata": {
    "collapsed": false
   },
   "outputs": [],
   "source": [
    "%matplotlib inline"
   ]
  },
  {
   "cell_type": "markdown",
   "metadata": {},
   "source": [
    "\n",
    "# L1 Penalty and Sparsity in Logistic Regression\n"
   ]
  },
  {
   "cell_type": "code",
   "execution_count": 2,
   "metadata": {
    "collapsed": false
   },
   "outputs": [],
   "source": [
    "import os\n",
    "import numpy as np\n",
    "import matplotlib.pyplot as plt\n",
    "from sklearn.linear_model import LogisticRegression\n",
    "from sklearn.preprocessing import StandardScaler\n",
    "from scipy.io import loadmat"
   ]
  },
  {
   "cell_type": "code",
   "execution_count": 3,
   "metadata": {
    "collapsed": false
   },
   "outputs": [
    {
     "name": "stdout",
     "output_type": "stream",
     "text": [
      "/home/ans/Dropbox/Zoccolan_strategy_perception_project/data/tidy/full\n"
     ]
    }
   ],
   "source": [
    "datafolder = os.path.join(os.path.sep, 'home','ans','Dropbox','Zoccolan_strategy_perception_project','data','tidy','full')\n",
    "print datafolder\n",
    "\n",
    "X = loadmat(os.path.join(os.path.sep, datafolder, 'X1.mat') )\n",
    "y = loadmat(os.path.join(os.path.sep, datafolder, 'y1.mat') )\n",
    "X = X['X']\n",
    "y = y['y']\n",
    "\n",
    "X = StandardScaler().fit_transform(X)\n",
    "y = y.ravel()"
   ]
  },
  {
   "cell_type": "code",
   "execution_count": 9,
   "metadata": {
    "collapsed": false
   },
   "outputs": [
    {
     "name": "stdout",
     "output_type": "stream",
     "text": [
      "Sparsity with L1 penalty: 0.00%\n"
     ]
    }
   ],
   "source": [
    "#L1 = [0.05]\n",
    "L1=[1000]\n",
    "\n",
    "for i in range(len(L1)):\n",
    "    \n",
    "    clf_l1_LR = LogisticRegression(C=L1[i], penalty='l2', tol=0.1)\n",
    "    clf_l1_LR.fit(X, y)\n",
    "    coef_l1_LR = clf_l1_LR.coef_.ravel()\n",
    "    sparsity_l1_LR = np.mean(coef_l1_LR == 0) * 100\n",
    "    print(\"Sparsity with L1 penalty: %.2f%%\" % sparsity_l1_LR)\n",
    "    \n",
    "    l1_plot = plt.subplot(3, 3, i + 1)        \n",
    "    l1_plot.imshow(coef_l1_LR.reshape(73, 55).T, interpolation='nearest', cmap='bone')    \n",
    "    l1_plot.set_xticks(())\n",
    "    l1_plot.set_yticks(())\n",
    "    plt.title(str(L1[i]))\n",
    "    \n",
    "plt.show()\n"
   ]
  },
  {
   "cell_type": "code",
   "execution_count": null,
   "metadata": {
    "collapsed": true
   },
   "outputs": [],
   "source": []
  },
  {
   "cell_type": "code",
   "execution_count": null,
   "metadata": {
    "collapsed": true
   },
   "outputs": [],
   "source": []
  }
 ],
 "metadata": {
  "kernelspec": {
   "display_name": "Python 2",
   "language": "python",
   "name": "python2"
  },
  "language_info": {
   "codemirror_mode": {
    "name": "ipython",
    "version": 2
   },
   "file_extension": ".py",
   "mimetype": "text/x-python",
   "name": "python",
   "nbconvert_exporter": "python",
   "pygments_lexer": "ipython2",
   "version": "2.7.12"
  }
 },
 "nbformat": 4,
 "nbformat_minor": 0
}
