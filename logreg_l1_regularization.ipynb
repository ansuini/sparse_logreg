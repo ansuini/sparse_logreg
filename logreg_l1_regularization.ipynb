{
 "cells": [
  {
   "cell_type": "code",
   "execution_count": 15,
   "metadata": {
    "collapsed": false
   },
   "outputs": [],
   "source": [
    "%matplotlib inline"
   ]
  },
  {
   "cell_type": "markdown",
   "metadata": {},
   "source": [
    "\n",
    "# L1 Penalty and Sparsity in Logistic Regression\n"
   ]
  },
  {
   "cell_type": "code",
   "execution_count": 2,
   "metadata": {
    "collapsed": false
   },
   "outputs": [],
   "source": [
    "import cPickle as pickle\n",
    "import os\n",
    "import numpy as np\n",
    "import matplotlib.pyplot as plt\n",
    "from sklearn.linear_model import LogisticRegression\n",
    "from sklearn.preprocessing import StandardScaler\n",
    "from scipy.io import loadmat"
   ]
  },
  {
   "cell_type": "code",
   "execution_count": 6,
   "metadata": {
    "collapsed": false
   },
   "outputs": [],
   "source": [
    "datafolder = os.path.join(os.path.sep, 'home','ans','Dropbox','Zoccolan_strategy_perception_project','data','tidy','full')\n",
    "\n",
    "X = loadmat(os.path.join(os.path.sep, datafolder, 'X1.mat') )\n",
    "y = loadmat(os.path.join(os.path.sep, datafolder, 'y1.mat') )\n",
    "X = X['X']\n",
    "y = y['y']\n",
    "\n",
    "X = StandardScaler().fit_transform(X)\n",
    "y = y.ravel()"
   ]
  },
  {
   "cell_type": "code",
   "execution_count": 16,
   "metadata": {
    "collapsed": false
   },
   "outputs": [
    {
     "name": "stdout",
     "output_type": "stream",
     "text": [
      "Sparsity with L1 penalty: 96.41%\n"
     ]
    },
    {
     "data": {
      "image/png": "[encoded data removed]",
      "text/plain": [
       "<matplotlib.figure.Figure at 0x7fbb820c1d50>"
      ]
     },
     "metadata": {},
     "output_type": "display_data"
    }
   ],
   "source": [
    "L1 = [0.05]\n",
    "for i in range(len(L1)):\n",
    "    \n",
    "    clf_l1_LR = LogisticRegression(C=L1[i], penalty='l1', tol=0.1)\n",
    "    clf_l1_LR.fit(X, y)\n",
    "    coef_l1_LR = clf_l1_LR.coef_.ravel()\n",
    "    sparsity_l1_LR = np.mean(coef_l1_LR == 0) * 100\n",
    "    print(\"Sparsity with L1 penalty: %.2f%%\" % sparsity_l1_LR)\n",
    "    \n",
    "    l1_plot = plt.subplot(3, 3, i + 1)        \n",
    "    l1_plot.imshow(coef_l1_LR.reshape(73, 55).T, interpolation='nearest', cmap='copper')    \n",
    "    l1_plot.set_xticks(())\n",
    "    l1_plot.set_yticks(())\n",
    "    plt.title(str(L1[i]))\n",
    "    \n",
    "plt.show()\n"
   ]
  }
 ],
 "metadata": {
  "kernelspec": {
   "display_name": "Python 2",
   "language": "python",
   "name": "python2"
  },
  "language_info": {
   "codemirror_mode": {
    "name": "ipython",
    "version": 2
   },
   "file_extension": ".py",
   "mimetype": "text/x-python",
   "name": "python",
   "nbconvert_exporter": "python",
   "pygments_lexer": "ipython2",
   "version": "2.7.12"
  }
 },
 "nbformat": 4,
 "nbformat_minor": 0
}
