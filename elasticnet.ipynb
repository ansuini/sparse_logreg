{
 "cells": [
  {
   "cell_type": "code",
   "execution_count": null,
   "metadata": {
    "collapsed": false
   },
   "outputs": [],
   "source": [
    "%matplotlib inline"
   ]
  },
  {
   "cell_type": "markdown",
   "metadata": {},
   "source": [
    "\n",
    "# Elasticnet logistic regression\n"
   ]
  },
  {
   "cell_type": "code",
   "execution_count": null,
   "metadata": {
    "collapsed": false
   },
   "outputs": [],
   "source": [
    "import cPickle as pickle\n",
    "import os\n",
    "import time\n",
    "import numpy as np\n",
    "import matplotlib.pyplot as plt\n",
    "from scipy.io import loadmat\n",
    "\n",
    "from sklearn.linear_model import SGDClassifier\n",
    "from sklearn.preprocessing import StandardScaler\n",
    "from sklearn.cross_validation import KFold\n",
    "from sklearn.metrics import log_loss"
   ]
  },
  {
   "cell_type": "code",
   "execution_count": null,
   "metadata": {
    "collapsed": false
   },
   "outputs": [],
   "source": [
    "datafolder = os.path.join(os.path.sep, 'home','ans','Dropbox','Zoccolan_strategy_perception_project','data','tidy','full')\n",
    "X = loadmat(os.path.join(os.path.sep, datafolder, 'X1.mat') )\n",
    "y = loadmat(os.path.join(os.path.sep, datafolder, 'y1.mat') )\n",
    "X = X['X']\n",
    "y = y['y']\n",
    "X = StandardScaler().fit_transform(X)\n",
    "y = y.ravel()"
   ]
  },
  {
   "cell_type": "code",
   "execution_count": null,
   "metadata": {
    "collapsed": false
   },
   "outputs": [],
   "source": [
    "numFolds = 3\n",
    "kf = KFold(len(X), numFolds, shuffle=True)"
   ]
  },
  {
   "cell_type": "code",
   "execution_count": null,
   "metadata": {
    "collapsed": false
   },
   "outputs": [],
   "source": [
    "# search through hyperpars space\n",
    "\n",
    "nsamples=10\n",
    "a = np.linspace(0.001, 0.1, nsamples)\n",
    "b = np.linspace(0.01, 10, nsamples)\n",
    "loss = np.zeros((nsamples, nsamples))\n",
    "\n",
    "W = np.zeros((4015, nsamples, nsamples))\n",
    "tin = time.time()\n",
    "for i in range(len(a)): \n",
    "    for j in range(len(b)):\n",
    "    \n",
    "        A = a[i] + b[j]\n",
    "        L = a[i] / (a[i] + b[j])         \n",
    "        params ={\"loss\": \"log\", \"penalty\": \"elasticnet\", 'n_iter':1000, \"alpha\":A, \"l1_ratio\":L }\n",
    "                        \n",
    "        total = 0\n",
    "        for train_indices, test_indices in kf:   \n",
    "            \n",
    "            t1 = time.time()\n",
    "                  \n",
    "            train_X = X[train_indices, :]; train_y = y[train_indices]\n",
    "            test_X = X[test_indices, :]; test_y = y[test_indices]           \n",
    "            clf = SGDClassifier(**params)\n",
    "            clf.fit(train_X, train_y)\n",
    "            predictions = clf.predict(test_X)             \n",
    "            total += log_loss(test_y, predictions)\n",
    "            W[:,i,j] = clf.coef_.ravel()  \n",
    "            \n",
    "            t2 = time.time()        \n",
    "            print 'elapsed time single model = ' + \"{0:.2f}\".format(round(t2 - t1,4))\n",
    "            \n",
    "            \n",
    "        loss[i,j] = total / (numFolds)  \n",
    "        \n",
    "                      \n",
    "tend = time.time()\n",
    "print 'elapsed total time = ' + \"{0:.2f}\".format(round(tend - tin,4))"
   ]
  },
  {
   "cell_type": "code",
   "execution_count": null,
   "metadata": {
    "collapsed": false
   },
   "outputs": [],
   "source": [
    "idxs = np.unravel_index(loss.argmin(), loss.shape)   \n",
    "plt.imshow(W[:,idxs[0], idxs[1]].reshape(73, 55).T, interpolation='nearest', cmap='copper')    \n",
    "plt.title(\"{0:.2f}\".format(round(loss[idxs[0],idxs[1]],4)) )\n",
    "plt.show()"
   ]
  },
  {
   "cell_type": "code",
   "execution_count": null,
   "metadata": {
    "collapsed": false
   },
   "outputs": [],
   "source": [
    "for i in range(len(a)): \n",
    "    for j in range(len(b)):\n",
    "   \n",
    "        plot = plt.subplot(nsamples, nsamples, i*nsamples + j + 1)        \n",
    "        plot.imshow(W[:,i,j].reshape(73, 55).T, interpolation='nearest', cmap='copper')    \n",
    "        plot.set_xticks(())\n",
    "        plot.set_yticks(())\n",
    "        #plt.title(\"{0:.2f}\".format(round(loss[i,j],4)) + ' a = ' + \"{0:.2f}\".format(round(A,4)) +  'b = ' \"{0:.2f}\".format(round(L,4)) )        \n",
    "        plt.title(\"{0:.2f}\".format(round(loss[i,j],4))  )\n",
    "plt.show()"
   ]
  },
  {
   "cell_type": "code",
   "execution_count": null,
   "metadata": {
    "collapsed": true
   },
   "outputs": [],
   "source": [
    "\n",
    "\n"
   ]
  },
  {
   "cell_type": "code",
   "execution_count": null,
   "metadata": {
    "collapsed": true
   },
   "outputs": [],
   "source": []
  }
 ],
 "metadata": {
  "kernelspec": {
   "display_name": "Python 2",
   "language": "python",
   "name": "python2"
  },
  "language_info": {
   "codemirror_mode": {
    "name": "ipython",
    "version": 2
   },
   "file_extension": ".py",
   "mimetype": "text/x-python",
   "name": "python",
   "nbconvert_exporter": "python",
   "pygments_lexer": "ipython2",
   "version": "2.7.12"
  }
 },
 "nbformat": 4,
 "nbformat_minor": 0
}
